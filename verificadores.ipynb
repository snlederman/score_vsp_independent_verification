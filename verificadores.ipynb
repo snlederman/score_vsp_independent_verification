{
 "cells": [
  {
   "cell_type": "code",
   "execution_count": 1,
   "id": "beacae7d-58ae-472c-86b9-cd5dc191ed45",
   "metadata": {
    "scrolled": true
   },
   "outputs": [
    {
     "name": "stdout",
     "output_type": "stream",
     "text": [
      "Requirement already satisfied: requests in /usr/local/lib/python3.8/site-packages (2.31.0)\n",
      "Requirement already satisfied: charset-normalizer<4,>=2 in /usr/local/lib/python3.8/site-packages (from requests) (3.3.2)\n",
      "Requirement already satisfied: idna<4,>=2.5 in /usr/local/lib/python3.8/site-packages (from requests) (3.6)\n",
      "Requirement already satisfied: urllib3<3,>=1.21.1 in /usr/local/lib/python3.8/site-packages (from requests) (2.2.1)\n",
      "Requirement already satisfied: certifi>=2017.4.17 in /usr/local/lib/python3.8/site-packages (from requests) (2024.2.2)\n",
      "\u001B[33mWARNING: Running pip as the 'root' user can result in broken permissions and conflicting behaviour with the system package manager. It is recommended to use a virtual environment instead: https://pip.pypa.io/warnings/venv\u001B[0m\u001B[33m\n",
      "\u001B[0mRequirement already satisfied: bs4 in /usr/local/lib/python3.8/site-packages (0.0.2)\n",
      "Requirement already satisfied: beautifulsoup4 in /usr/local/lib/python3.8/site-packages (from bs4) (4.12.3)\n",
      "Requirement already satisfied: soupsieve>1.2 in /usr/local/lib/python3.8/site-packages (from beautifulsoup4->bs4) (2.5)\n",
      "\u001B[33mWARNING: Running pip as the 'root' user can result in broken permissions and conflicting behaviour with the system package manager. It is recommended to use a virtual environment instead: https://pip.pypa.io/warnings/venv\u001B[0m\u001B[33m\n",
      "\u001B[0mRequirement already satisfied: pandas in /usr/local/lib/python3.8/site-packages (2.0.3)\n",
      "Requirement already satisfied: python-dateutil>=2.8.2 in /usr/local/lib/python3.8/site-packages (from pandas) (2.9.0.post0)\n",
      "Requirement already satisfied: pytz>=2020.1 in /usr/local/lib/python3.8/site-packages (from pandas) (2024.1)\n",
      "Requirement already satisfied: tzdata>=2022.1 in /usr/local/lib/python3.8/site-packages (from pandas) (2024.1)\n",
      "Requirement already satisfied: numpy>=1.20.3 in /usr/local/lib/python3.8/site-packages (from pandas) (1.24.4)\n",
      "Requirement already satisfied: six>=1.5 in /usr/local/lib/python3.8/site-packages (from python-dateutil>=2.8.2->pandas) (1.16.0)\n",
      "\u001B[33mWARNING: Running pip as the 'root' user can result in broken permissions and conflicting behaviour with the system package manager. It is recommended to use a virtual environment instead: https://pip.pypa.io/warnings/venv\u001B[0m\u001B[33m\n",
      "\u001B[0mRequirement already satisfied: PyPDF2 in /usr/local/lib/python3.8/site-packages (3.0.1)\n",
      "Requirement already satisfied: typing_extensions>=3.10.0.0 in /usr/local/lib/python3.8/site-packages (from PyPDF2) (4.10.0)\n",
      "\u001B[33mWARNING: Running pip as the 'root' user can result in broken permissions and conflicting behaviour with the system package manager. It is recommended to use a virtual environment instead: https://pip.pypa.io/warnings/venv\u001B[0m\u001B[33m\n",
      "\u001B[0mRequirement already satisfied: tqdm in /usr/local/lib/python3.8/site-packages (4.66.2)\n",
      "\u001B[33mWARNING: Running pip as the 'root' user can result in broken permissions and conflicting behaviour with the system package manager. It is recommended to use a virtual environment instead: https://pip.pypa.io/warnings/venv\u001B[0m\u001B[33m\n",
      "\u001B[0mRequirement already satisfied: fuzzywuzzy in /usr/local/lib/python3.8/site-packages (0.18.0)\n",
      "\u001B[33mWARNING: Running pip as the 'root' user can result in broken permissions and conflicting behaviour with the system package manager. It is recommended to use a virtual environment instead: https://pip.pypa.io/warnings/venv\u001B[0m\u001B[33m\n",
      "\u001B[0mRequirement already satisfied: python-Levenshtein in /usr/local/lib/python3.8/site-packages (0.25.0)\n",
      "Requirement already satisfied: Levenshtein==0.25.0 in /usr/local/lib/python3.8/site-packages (from python-Levenshtein) (0.25.0)\n",
      "Requirement already satisfied: rapidfuzz<4.0.0,>=3.1.0 in /usr/local/lib/python3.8/site-packages (from Levenshtein==0.25.0->python-Levenshtein) (3.6.2)\n",
      "\u001B[33mWARNING: Running pip as the 'root' user can result in broken permissions and conflicting behaviour with the system package manager. It is recommended to use a virtual environment instead: https://pip.pypa.io/warnings/venv\u001B[0m\u001B[33m\n",
      "\u001B[0mRequirement already satisfied: matplotlib in /usr/local/lib/python3.8/site-packages (3.7.5)\n",
      "Requirement already satisfied: contourpy>=1.0.1 in /usr/local/lib/python3.8/site-packages (from matplotlib) (1.1.1)\n",
      "Requirement already satisfied: cycler>=0.10 in /usr/local/lib/python3.8/site-packages (from matplotlib) (0.12.1)\n",
      "Requirement already satisfied: fonttools>=4.22.0 in /usr/local/lib/python3.8/site-packages (from matplotlib) (4.49.0)\n",
      "Requirement already satisfied: kiwisolver>=1.0.1 in /usr/local/lib/python3.8/site-packages (from matplotlib) (1.4.5)\n",
      "Requirement already satisfied: numpy<2,>=1.20 in /usr/local/lib/python3.8/site-packages (from matplotlib) (1.24.4)\n",
      "Requirement already satisfied: packaging>=20.0 in /usr/local/lib/python3.8/site-packages (from matplotlib) (24.0)\n",
      "Requirement already satisfied: pillow>=6.2.0 in /usr/local/lib/python3.8/site-packages (from matplotlib) (10.2.0)\n",
      "Requirement already satisfied: pyparsing>=2.3.1 in /usr/local/lib/python3.8/site-packages (from matplotlib) (3.1.2)\n",
      "Requirement already satisfied: python-dateutil>=2.7 in /usr/local/lib/python3.8/site-packages (from matplotlib) (2.9.0.post0)\n",
      "Requirement already satisfied: importlib-resources>=3.2.0 in /usr/local/lib/python3.8/site-packages (from matplotlib) (6.1.3)\n",
      "Requirement already satisfied: zipp>=3.1.0 in /usr/local/lib/python3.8/site-packages (from importlib-resources>=3.2.0->matplotlib) (3.17.0)\n",
      "Requirement already satisfied: six>=1.5 in /usr/local/lib/python3.8/site-packages (from python-dateutil>=2.7->matplotlib) (1.16.0)\n",
      "\u001B[33mWARNING: Running pip as the 'root' user can result in broken permissions and conflicting behaviour with the system package manager. It is recommended to use a virtual environment instead: https://pip.pypa.io/warnings/venv\u001B[0m\u001B[33m\n",
      "\u001B[0mRequirement already satisfied: openai in /usr/local/lib/python3.8/site-packages (1.13.3)\n",
      "Requirement already satisfied: anyio<5,>=3.5.0 in /usr/local/lib/python3.8/site-packages (from openai) (4.3.0)\n",
      "Requirement already satisfied: distro<2,>=1.7.0 in /usr/local/lib/python3.8/site-packages (from openai) (1.9.0)\n",
      "Requirement already satisfied: httpx<1,>=0.23.0 in /usr/local/lib/python3.8/site-packages (from openai) (0.27.0)\n",
      "Requirement already satisfied: pydantic<3,>=1.9.0 in /usr/local/lib/python3.8/site-packages (from openai) (2.6.4)\n",
      "Requirement already satisfied: sniffio in /usr/local/lib/python3.8/site-packages (from openai) (1.3.1)\n",
      "Requirement already satisfied: tqdm>4 in /usr/local/lib/python3.8/site-packages (from openai) (4.66.2)\n",
      "Requirement already satisfied: typing-extensions<5,>=4.7 in /usr/local/lib/python3.8/site-packages (from openai) (4.10.0)\n",
      "Requirement already satisfied: idna>=2.8 in /usr/local/lib/python3.8/site-packages (from anyio<5,>=3.5.0->openai) (3.6)\n",
      "Requirement already satisfied: exceptiongroup>=1.0.2 in /usr/local/lib/python3.8/site-packages (from anyio<5,>=3.5.0->openai) (1.2.0)\n",
      "Requirement already satisfied: certifi in /usr/local/lib/python3.8/site-packages (from httpx<1,>=0.23.0->openai) (2024.2.2)\n",
      "Requirement already satisfied: httpcore==1.* in /usr/local/lib/python3.8/site-packages (from httpx<1,>=0.23.0->openai) (1.0.4)\n",
      "Requirement already satisfied: h11<0.15,>=0.13 in /usr/local/lib/python3.8/site-packages (from httpcore==1.*->httpx<1,>=0.23.0->openai) (0.14.0)\n",
      "Requirement already satisfied: annotated-types>=0.4.0 in /usr/local/lib/python3.8/site-packages (from pydantic<3,>=1.9.0->openai) (0.6.0)\n",
      "Requirement already satisfied: pydantic-core==2.16.3 in /usr/local/lib/python3.8/site-packages (from pydantic<3,>=1.9.0->openai) (2.16.3)\n",
      "\u001B[33mWARNING: Running pip as the 'root' user can result in broken permissions and conflicting behaviour with the system package manager. It is recommended to use a virtual environment instead: https://pip.pypa.io/warnings/venv\u001B[0m\u001B[33m\n",
      "\u001B[0m"
     ]
    }
   ],
   "source": [
    "!pip install requests\n",
    "!pip install bs4\n",
    "!pip install pandas\n",
    "!pip install PyPDF2\n",
    "!pip install tqdm\n",
    "!pip install fuzzywuzzy\n",
    "!pip install python-Levenshtein\n",
    "!pip install matplotlib\n",
    "!pip install openai"
   ]
  },
  {
   "cell_type": "code",
   "execution_count": 2,
   "id": "74a7664e-e1e5-4bb6-94f8-38e619a321c3",
   "metadata": {},
   "outputs": [],
   "source": [
    "import requests\n",
    "from bs4 import BeautifulSoup\n",
    "import pandas as pd\n",
    "import io\n",
    "from PyPDF2 import PdfReader\n",
    "from tqdm import tqdm\n",
    "from requests.adapters import HTTPAdapter\n",
    "from requests.packages.urllib3.util.retry import Retry\n",
    "import os\n",
    "from openai import OpenAI\n",
    "import re\n",
    "from fuzzywuzzy import process\n",
    "import matplotlib.pyplot as plt\n",
    "from concurrent.futures import ThreadPoolExecutor, as_completed"
   ]
  },
  {
   "cell_type": "code",
   "execution_count": 3,
   "id": "5297986e-b327-4461-bf95-e85214357e11",
   "metadata": {},
   "outputs": [],
   "source": [
    "x = requests.get('https://www.impactprinciples.org/signatories-reporting')"
   ]
  },
  {
   "cell_type": "code",
   "execution_count": 4,
   "id": "2ea53161-71ec-46de-83b4-90be2f787b0c",
   "metadata": {},
   "outputs": [],
   "source": [
    "soup = BeautifulSoup(x.text, 'html.parser')"
   ]
  },
  {
   "cell_type": "code",
   "execution_count": 5,
   "id": "a04e0d3f-69c5-4181-ba82-c2586d4e38de",
   "metadata": {},
   "outputs": [],
   "source": [
    "data_even = list()\n",
    "for url in soup.find_all(class_='even'):\n",
    "    data_even.append(list(map(lambda object: object.text, url.find_all('td')[:-1]))+list(map(lambda object: object['href'], url.find_all('a'))))"
   ]
  },
  {
   "cell_type": "code",
   "execution_count": 6,
   "id": "2bf096e2-90db-4221-ac89-7763baf6295f",
   "metadata": {},
   "outputs": [],
   "source": [
    "data_odd = list()\n",
    "for url in soup.find_all(class_='odd'):\n",
    "    data_even.append(list(map(lambda object: object.text, url.find_all('td')[:-1]))+list(map(lambda object: object['href'], url.find_all('a'))))"
   ]
  },
  {
   "cell_type": "code",
   "execution_count": 7,
   "id": "c048f3e5-5b4b-4e5d-b9c5-05ed7dcd3987",
   "metadata": {},
   "outputs": [],
   "source": [
    "data = data_even + data_odd"
   ]
  },
  {
   "cell_type": "code",
   "execution_count": 8,
   "id": "0773f704-56a9-4670-9bde-e749978ffa9f",
   "metadata": {},
   "outputs": [],
   "source": [
    "df = df = pd.DataFrame(data, columns=['Name',\n",
    "                                      'Country',\n",
    "                                      'Date of Adoption',\n",
    "                                      'Covered Assets (US $MM)',\n",
    "                                      'Disclosure Statement',\n",
    "                                      'Verification Summary',\n",
    "                                      'ExtraColumn'])"
   ]
  },
  {
   "cell_type": "code",
   "execution_count": 9,
   "id": "dc5057a8-0051-4202-8098-2700020f9638",
   "metadata": {},
   "outputs": [],
   "source": [
    "df.loc[df['Name'] == 'European Bank for Reconstruction and Development (The)', 'Verification Summary'] = df.loc[df['Name'] == 'European Bank for Reconstruction and Development (The)', 'ExtraColumn']\n",
    "df.loc[df['Name'] == 'European Bank for Reconstruction and Development (The)', 'ExtraColumn'] = 'None'"
   ]
  },
  {
   "cell_type": "code",
   "execution_count": 10,
   "id": "2357d30e-1bb7-4184-a193-5226e06ab643",
   "metadata": {},
   "outputs": [],
   "source": [
    "df_ver = df[df['Verification Summary'].notnull()]"
   ]
  },
  {
   "cell_type": "code",
   "execution_count": 11,
   "id": "1d6b7c50-b5ef-411d-8947-9ea43145337a",
   "metadata": {},
   "outputs": [],
   "source": [
    "df_ver.reset_index(drop=True, inplace=True)"
   ]
  },
  {
   "cell_type": "code",
   "execution_count": 12,
   "id": "2ac35251-2a70-409b-a819-5ae138218884",
   "metadata": {
    "scrolled": true
   },
   "outputs": [
    {
     "name": "stderr",
     "output_type": "stream",
     "text": [
      "/tmp/ipykernel_23697/3593421425.py:22: SettingWithCopyWarning: \n",
      "A value is trying to be set on a copy of a slice from a DataFrame.\n",
      "Try using .loc[row_indexer,col_indexer] = value instead\n",
      "\n",
      "See the caveats in the documentation: https://pandas.pydata.org/pandas-docs/stable/user_guide/indexing.html#returning-a-view-versus-a-copy\n",
      "  df_ver['Disclosure Text'] = None\n",
      "/tmp/ipykernel_23697/3593421425.py:23: SettingWithCopyWarning: \n",
      "A value is trying to be set on a copy of a slice from a DataFrame.\n",
      "Try using .loc[row_indexer,col_indexer] = value instead\n",
      "\n",
      "See the caveats in the documentation: https://pandas.pydata.org/pandas-docs/stable/user_guide/indexing.html#returning-a-view-versus-a-copy\n",
      "  df_ver['Verification Text'] = None\n",
      " 12%|█▏        | 16/137 [00:51<06:00,  2.98s/it]"
     ]
    },
    {
     "name": "stdout",
     "output_type": "stream",
     "text": [
      "Error processing Verification Summary for row 15: PyCryptodome is required for AES algorithm\n"
     ]
    },
    {
     "name": "stderr",
     "output_type": "stream",
     "text": [
      " 17%|█▋        | 23/137 [01:14<05:54,  3.11s/it]"
     ]
    },
    {
     "name": "stdout",
     "output_type": "stream",
     "text": [
      "Error processing Verification Summary for row 22: EOF marker not found\n"
     ]
    },
    {
     "name": "stderr",
     "output_type": "stream",
     "text": [
      " 20%|█▉        | 27/137 [01:24<04:18,  2.35s/it]"
     ]
    },
    {
     "name": "stdout",
     "output_type": "stream",
     "text": [
      "Error processing Disclosure Statement for row 26: EOF marker not found\n",
      "Error processing Verification Summary for row 26: EOF marker not found\n",
      "Error processing Disclosure Statement for row 27: EOF marker not found\n"
     ]
    },
    {
     "name": "stderr",
     "output_type": "stream",
     "text": [
      " 20%|██        | 28/137 [01:55<20:15, 11.15s/it]"
     ]
    },
    {
     "name": "stdout",
     "output_type": "stream",
     "text": [
      "General error in row 27: HTTPSConnectionPool(host='gefcapital.com', port=443): Max retries exceeded with url: /capital-partners/wp-content/uploads/2022/05/GEF-Independent-Verification-Statement-by-SITAWI-2nd-year-20220505.pdf (Caused by SSLError(SSLZeroReturnError(6, 'TLS/SSL connection has been closed (EOF) (_ssl.c:1131)')))\n"
     ]
    },
    {
     "name": "stderr",
     "output_type": "stream",
     "text": [
      " 22%|██▏       | 30/137 [02:00<11:40,  6.55s/it]"
     ]
    },
    {
     "name": "stdout",
     "output_type": "stream",
     "text": [
      "Error processing Disclosure Statement for row 30: EOF marker not found\n"
     ]
    },
    {
     "name": "stderr",
     "output_type": "stream",
     "text": [
      " 23%|██▎       | 31/137 [02:01<08:43,  4.94s/it]"
     ]
    },
    {
     "name": "stdout",
     "output_type": "stream",
     "text": [
      "Error processing Verification Summary for row 30: EOF marker not found\n",
      "Error processing Disclosure Statement for row 31: EOF marker not found\n"
     ]
    },
    {
     "name": "stderr",
     "output_type": "stream",
     "text": [
      " 23%|██▎       | 32/137 [02:03<06:55,  3.96s/it]"
     ]
    },
    {
     "name": "stdout",
     "output_type": "stream",
     "text": [
      "Error processing Verification Summary for row 31: EOF marker not found\n"
     ]
    },
    {
     "name": "stderr",
     "output_type": "stream",
     "text": [
      " 27%|██▋       | 37/137 [02:16<04:35,  2.75s/it]"
     ]
    },
    {
     "name": "stdout",
     "output_type": "stream",
     "text": [
      "Error processing Verification Summary for row 36: EOF marker not found\n"
     ]
    },
    {
     "name": "stderr",
     "output_type": "stream",
     "text": [
      " 28%|██▊       | 38/137 [02:27<08:47,  5.33s/it]"
     ]
    },
    {
     "name": "stdout",
     "output_type": "stream",
     "text": [
      "Error processing Verification Summary for row 37: EOF marker not found\n"
     ]
    },
    {
     "name": "stderr",
     "output_type": "stream",
     "text": [
      " 31%|███▏      | 43/137 [09:07<3:07:21, 119.59s/it]"
     ]
    },
    {
     "name": "stdout",
     "output_type": "stream",
     "text": [
      "General error in row 42: HTTPSConnectionPool(host='www.nb.com', port=443): Max retries exceeded with url: /handlers/documents.ashx?id=45dd9dc8-9fd0-464b-a597-0b5b3996e741&name=NB%20Operating-Principles-for-Impact-Management_2023-Discl (Caused by ProtocolError('Connection aborted.', RemoteDisconnected('Remote end closed connection without response')))\n"
     ]
    },
    {
     "name": "stderr",
     "output_type": "stream",
     "text": [
      " 32%|███▏      | 44/137 [09:09<2:10:48, 84.40s/it] "
     ]
    },
    {
     "name": "stdout",
     "output_type": "stream",
     "text": [
      "Error processing Disclosure Statement for row 44: EOF marker not found\n"
     ]
    },
    {
     "name": "stderr",
     "output_type": "stream",
     "text": [
      " 33%|███▎      | 45/137 [09:11<1:31:17, 59.54s/it]"
     ]
    },
    {
     "name": "stdout",
     "output_type": "stream",
     "text": [
      "Error processing Verification Summary for row 44: EOF marker not found\n"
     ]
    },
    {
     "name": "stderr",
     "output_type": "stream",
     "text": [
      " 34%|███▍      | 47/137 [09:19<46:54, 31.27s/it]  "
     ]
    },
    {
     "name": "stdout",
     "output_type": "stream",
     "text": [
      "Error processing Disclosure Statement for row 47: EOF marker not found\n"
     ]
    },
    {
     "name": "stderr",
     "output_type": "stream",
     "text": [
      " 35%|███▌      | 48/137 [09:21<33:27, 22.55s/it]"
     ]
    },
    {
     "name": "stdout",
     "output_type": "stream",
     "text": [
      "Error processing Verification Summary for row 47: EOF marker not found\n"
     ]
    },
    {
     "name": "stderr",
     "output_type": "stream",
     "text": [
      " 36%|███▌      | 49/137 [09:26<25:21, 17.29s/it]"
     ]
    },
    {
     "name": "stdout",
     "output_type": "stream",
     "text": [
      "Error processing Disclosure Statement for row 49: EOF marker not found\n"
     ]
    },
    {
     "name": "stderr",
     "output_type": "stream",
     "text": [
      " 38%|███▊      | 52/137 [09:45<15:41, 11.07s/it]"
     ]
    },
    {
     "name": "stdout",
     "output_type": "stream",
     "text": [
      "Error processing Verification Summary for row 51: EOF marker not found\n"
     ]
    },
    {
     "name": "stderr",
     "output_type": "stream",
     "text": [
      " 45%|████▌     | 62/137 [10:09<02:48,  2.25s/it]"
     ]
    },
    {
     "name": "stdout",
     "output_type": "stream",
     "text": [
      "Error processing Verification Summary for row 61: EOF marker not found\n",
      "Error processing Disclosure Statement for row 62: EOF marker not found\n"
     ]
    },
    {
     "name": "stderr",
     "output_type": "stream",
     "text": [
      " 46%|████▌     | 63/137 [10:17<04:54,  3.98s/it]"
     ]
    },
    {
     "name": "stdout",
     "output_type": "stream",
     "text": [
      "Error processing Verification Summary for row 62: EOF marker not found\n"
     ]
    },
    {
     "name": "stderr",
     "output_type": "stream",
     "text": [
      " 49%|████▉     | 67/137 [10:30<04:15,  3.64s/it]"
     ]
    },
    {
     "name": "stdout",
     "output_type": "stream",
     "text": [
      "Error processing Verification Summary for row 66: EOF marker not found\n"
     ]
    },
    {
     "name": "stderr",
     "output_type": "stream",
     "text": [
      " 50%|████▉     | 68/137 [10:33<03:51,  3.35s/it]"
     ]
    },
    {
     "name": "stdout",
     "output_type": "stream",
     "text": [
      "Error processing Verification Summary for row 67: EOF marker not found\n"
     ]
    },
    {
     "name": "stderr",
     "output_type": "stream",
     "text": [
      " 52%|█████▏    | 71/137 [10:45<04:38,  4.22s/it]"
     ]
    },
    {
     "name": "stdout",
     "output_type": "stream",
     "text": [
      "Error processing Disclosure Statement for row 71: EOF marker not found\n"
     ]
    },
    {
     "name": "stderr",
     "output_type": "stream",
     "text": [
      " 53%|█████▎    | 72/137 [10:47<03:44,  3.45s/it]"
     ]
    },
    {
     "name": "stdout",
     "output_type": "stream",
     "text": [
      "Error processing Verification Summary for row 71: EOF marker not found\n"
     ]
    },
    {
     "name": "stderr",
     "output_type": "stream",
     "text": [
      " 53%|█████▎    | 73/137 [10:48<03:10,  2.98s/it]"
     ]
    },
    {
     "name": "stdout",
     "output_type": "stream",
     "text": [
      "Error processing Verification Summary for row 72: EOF marker not found\n"
     ]
    },
    {
     "name": "stderr",
     "output_type": "stream",
     "text": [
      " 54%|█████▍    | 74/137 [10:50<02:44,  2.62s/it]"
     ]
    },
    {
     "name": "stdout",
     "output_type": "stream",
     "text": [
      "Error processing Disclosure Statement for row 74: EOF marker not found\n"
     ]
    },
    {
     "name": "stderr",
     "output_type": "stream",
     "text": [
      " 55%|█████▍    | 75/137 [10:51<02:10,  2.10s/it]"
     ]
    },
    {
     "name": "stdout",
     "output_type": "stream",
     "text": [
      "Error processing Verification Summary for row 74: EOF marker not found\n"
     ]
    },
    {
     "name": "stderr",
     "output_type": "stream",
     "text": [
      " 57%|█████▋    | 78/137 [10:59<02:33,  2.59s/it]"
     ]
    },
    {
     "name": "stdout",
     "output_type": "stream",
     "text": [
      "Error processing Verification Summary for row 77: EOF marker not found\n"
     ]
    },
    {
     "name": "stderr",
     "output_type": "stream",
     "text": [
      " 58%|█████▊    | 80/137 [11:03<02:19,  2.45s/it]"
     ]
    },
    {
     "name": "stdout",
     "output_type": "stream",
     "text": [
      "Error processing Verification Summary for row 79: EOF marker not found\n"
     ]
    },
    {
     "name": "stderr",
     "output_type": "stream",
     "text": [
      " 59%|█████▉    | 81/137 [11:10<03:25,  3.67s/it]"
     ]
    },
    {
     "name": "stdout",
     "output_type": "stream",
     "text": [
      "General error in row 80: ('Connection broken: IncompleteRead(1599960 bytes read, 3114997 more expected)', IncompleteRead(1599960 bytes read, 3114997 more expected))\n"
     ]
    },
    {
     "name": "stderr",
     "output_type": "stream",
     "text": [
      " 61%|██████    | 83/137 [11:14<02:43,  3.02s/it]"
     ]
    },
    {
     "name": "stdout",
     "output_type": "stream",
     "text": [
      "Error processing Disclosure Statement for row 83: EOF marker not found\n"
     ]
    },
    {
     "name": "stderr",
     "output_type": "stream",
     "text": [
      " 63%|██████▎   | 86/137 [11:21<02:08,  2.52s/it]"
     ]
    },
    {
     "name": "stdout",
     "output_type": "stream",
     "text": [
      "Error processing Verification Summary for row 85: EOF marker not found\n"
     ]
    },
    {
     "name": "stderr",
     "output_type": "stream",
     "text": [
      " 64%|██████▎   | 87/137 [11:27<02:55,  3.50s/it]"
     ]
    },
    {
     "name": "stdout",
     "output_type": "stream",
     "text": [
      "Error processing Disclosure Statement for row 87: EOF marker not found\n"
     ]
    },
    {
     "name": "stderr",
     "output_type": "stream",
     "text": [
      " 64%|██████▍   | 88/137 [11:27<02:10,  2.67s/it]"
     ]
    },
    {
     "name": "stdout",
     "output_type": "stream",
     "text": [
      "Error processing Verification Summary for row 87: EOF marker not found\n"
     ]
    },
    {
     "name": "stderr",
     "output_type": "stream",
     "text": [
      " 67%|██████▋   | 92/137 [12:08<08:53, 11.85s/it]"
     ]
    },
    {
     "name": "stdout",
     "output_type": "stream",
     "text": [
      "General error in row 91: HTTPSConnectionPool(host='www.eaefund.org', port=443): Max retries exceeded with url: /2020-Website/wp-content/uploads/2023/10/Sep2023__EAEF-Impact-Disclosure-Update.pdf (Caused by ProtocolError('Connection aborted.', RemoteDisconnected('Remote end closed connection without response')))\n"
     ]
    },
    {
     "name": "stderr",
     "output_type": "stream",
     "text": [
      " 69%|██████▉   | 95/137 [12:19<04:18,  6.17s/it]"
     ]
    },
    {
     "name": "stdout",
     "output_type": "stream",
     "text": [
      "Error processing Disclosure Statement for row 95: EOF marker not found\n"
     ]
    },
    {
     "name": "stderr",
     "output_type": "stream",
     "text": [
      " 70%|███████   | 96/137 [12:20<03:10,  4.64s/it]"
     ]
    },
    {
     "name": "stdout",
     "output_type": "stream",
     "text": [
      "Error processing Verification Summary for row 95: EOF marker not found\n"
     ]
    },
    {
     "name": "stderr",
     "output_type": "stream",
     "text": [
      " 72%|███████▏  | 98/137 [12:23<01:52,  2.88s/it]"
     ]
    },
    {
     "name": "stdout",
     "output_type": "stream",
     "text": [
      "Error processing Disclosure Statement for row 98: EOF marker not found\n"
     ]
    },
    {
     "name": "stderr",
     "output_type": "stream",
     "text": [
      " 72%|███████▏  | 99/137 [12:55<07:22, 11.65s/it]"
     ]
    },
    {
     "name": "stdout",
     "output_type": "stream",
     "text": [
      "General error in row 98: HTTPSConnectionPool(host='gkpartners.co', port=443): Max retries exceeded with url: /wp-content/uploads/2023/02/OPIM-Verification_GK-Ventures-20230123.pdf (Caused by SSLError(SSLZeroReturnError(6, 'TLS/SSL connection has been closed (EOF) (_ssl.c:1131)')))\n"
     ]
    },
    {
     "name": "stderr",
     "output_type": "stream",
     "text": [
      " 76%|███████▌  | 104/137 [14:47<18:40, 33.95s/it]"
     ]
    },
    {
     "name": "stdout",
     "output_type": "stream",
     "text": [
      "General error in row 103: HTTPSConnectionPool(host='www.inokscapital.ch', port=443): Max retries exceeded with url: /wp-content/uploads/2023/09/INOKS_Disclosure_Statement_2023.pdf (Caused by SSLError(SSLZeroReturnError(6, 'TLS/SSL connection has been closed (EOF) (_ssl.c:1131)')))\n"
     ]
    },
    {
     "name": "stderr",
     "output_type": "stream",
     "text": [
      "unknown widths : \n",
      "[0, IndirectObject(545, 0, 281472317635552)]\n",
      "unknown widths : \n",
      "[0, IndirectObject(545, 0, 281472317635552)]\n",
      " 77%|███████▋  | 106/137 [14:51<09:04, 17.56s/it]/usr/local/lib/python3.8/site-packages/PyPDF2/_cmap.py:142: PdfReadWarning: Advanced encoding /90ms-RKSJ-H not implemented yet\n",
      "  warnings.warn(\n",
      "/usr/local/lib/python3.8/site-packages/PyPDF2/_cmap.py:142: PdfReadWarning: Advanced encoding /90ms-RKSJ-V not implemented yet\n",
      "  warnings.warn(\n",
      " 78%|███████▊  | 107/137 [14:53<06:25, 12.85s/it]FloatObject (b'0.00-40') invalid; use 0.0 instead\n",
      "FloatObject (b'0.00-40') invalid; use 0.0 instead\n",
      "FloatObject (b'0.00-40') invalid; use 0.0 instead\n",
      "FloatObject (b'0.00-40') invalid; use 0.0 instead\n",
      "FloatObject (b'0.00-40') invalid; use 0.0 instead\n",
      "FloatObject (b'0.00-40') invalid; use 0.0 instead\n",
      "FloatObject (b'0.00-40') invalid; use 0.0 instead\n",
      "FloatObject (b'0.00-40') invalid; use 0.0 instead\n",
      " 80%|████████  | 110/137 [15:03<03:05,  6.88s/it]"
     ]
    },
    {
     "name": "stdout",
     "output_type": "stream",
     "text": [
      "Error processing Verification Summary for row 109: EOF marker not found\n"
     ]
    },
    {
     "name": "stderr",
     "output_type": "stream",
     "text": [
      " 82%|████████▏ | 113/137 [15:40<05:19, 13.31s/it]"
     ]
    },
    {
     "name": "stdout",
     "output_type": "stream",
     "text": [
      "General error in row 112: HTTPSConnectionPool(host='mikrokapital.com', port=443): Max retries exceeded with url: /wp-content/uploads/2023/07/OPIM-disclosure-2022_final_update.pdf (Caused by ProtocolError('Connection aborted.', RemoteDisconnected('Remote end closed connection without response')))\n"
     ]
    },
    {
     "name": "stderr",
     "output_type": "stream",
     "text": [
      " 84%|████████▍ | 115/137 [15:46<02:48,  7.66s/it]"
     ]
    },
    {
     "name": "stdout",
     "output_type": "stream",
     "text": [
      "Error processing Disclosure Statement for row 114: EOF marker not found\n",
      "Error processing Verification Summary for row 114: EOF marker not found\n"
     ]
    },
    {
     "name": "stderr",
     "output_type": "stream",
     "text": [
      " 85%|████████▍ | 116/137 [15:47<02:02,  5.85s/it]"
     ]
    },
    {
     "name": "stdout",
     "output_type": "stream",
     "text": [
      "Error processing Disclosure Statement for row 116: EOF marker not found\n"
     ]
    },
    {
     "name": "stderr",
     "output_type": "stream",
     "text": [
      " 86%|████████▌ | 118/137 [16:25<04:22, 13.84s/it]"
     ]
    },
    {
     "name": "stdout",
     "output_type": "stream",
     "text": [
      "General error in row 117: HTTPSConnectionPool(host='palatinepe.com', port=443): Max retries exceeded with url: /wp-content/uploads/2023/11/Disclosure-statement_2023.pdf (Caused by ProtocolError('Connection aborted.', RemoteDisconnected('Remote end closed connection without response')))\n"
     ]
    },
    {
     "name": "stderr",
     "output_type": "stream",
     "text": [
      " 90%|████████▉ | 123/137 [17:10<03:13, 13.82s/it]"
     ]
    },
    {
     "name": "stdout",
     "output_type": "stream",
     "text": [
      "General error in row 122: HTTPSConnectionPool(host='radicleimpact.com', port=443): Max retries exceeded with url: /wp-content/uploads/2023/08/Impact-Principles-Disclosure-Radicle-Impact-August-25-2023.pdf (Caused by SSLError(SSLCertVerificationError(1, \"[SSL: CERTIFICATE_VERIFY_FAILED] certificate verify failed: Hostname mismatch, certificate is not valid for 'radicleimpact.com'. (_ssl.c:1131)\")))\n"
     ]
    },
    {
     "name": "stderr",
     "output_type": "stream",
     "text": [
      " 99%|█████████▉| 136/137 [19:08<00:07,  7.43s/it]"
     ]
    },
    {
     "name": "stdout",
     "output_type": "stream",
     "text": [
      "Error processing Disclosure Statement for row 136: EOF marker not found\n"
     ]
    },
    {
     "name": "stderr",
     "output_type": "stream",
     "text": [
      "100%|██████████| 137/137 [19:09<00:00,  8.39s/it]"
     ]
    },
    {
     "name": "stdout",
     "output_type": "stream",
     "text": [
      "Error processing Verification Summary for row 136: EOF marker not found\n"
     ]
    },
    {
     "name": "stderr",
     "output_type": "stream",
     "text": [
      "\n"
     ]
    }
   ],
   "source": [
    "# Initialize a requests session with retries\n",
    "session = requests.Session()\n",
    "retries = Retry(total=5,\n",
    "                backoff_factor=1,\n",
    "                status_forcelist=[500, 502, 503, 504])\n",
    "session.mount('http://', HTTPAdapter(max_retries=retries))\n",
    "session.mount('https://', HTTPAdapter(max_retries=retries))\n",
    "\n",
    "# Update session headers to mimic a web browser\n",
    "session.headers.update({\n",
    "    'User-Agent': 'Mozilla/5.0 (Windows NT 10.0; Win64; x64) AppleWebKit/537.36 (KHTML, like Gecko) Chrome/58.0.3029.110 Safari/537.3'\n",
    "})\n",
    "\n",
    "# Assume df_ver is already initialized and has the URLs for 'Disclosure Statement' and 'Verification Summary'\n",
    "# Example DataFrame initialization (replace with your actual DataFrame)\n",
    "# df_ver = pd.DataFrame({\n",
    "#     'Disclosure Statement': ['http://example.com/disclosure1.pdf', 'http://example.com/disclosure2.pdf'],\n",
    "#     'Verification Summary': ['http://example.com/verification1.pdf', 'http://example.com/verification2.pdf']\n",
    "# })\n",
    "\n",
    "# Ensure 'Disclosure Text' and 'Verification Text' columns exist\n",
    "df_ver['Disclosure Text'] = None\n",
    "df_ver['Verification Text'] = None\n",
    "\n",
    "for i in tqdm(range(len(df_ver))):\n",
    "    # Initialize URLs from DataFrame\n",
    "    dis_url = df_ver.loc[i, 'Disclosure Statement']\n",
    "    ver_url = df_ver.loc[i, 'Verification Summary']\n",
    "    \n",
    "    # Initialize text variables\n",
    "    dis_text = ''\n",
    "    ver_text = ''\n",
    "    \n",
    "    try:\n",
    "        # Disclosure Statement\n",
    "        dis_response = session.get(dis_url)\n",
    "        dis_obj = io.BytesIO(dis_response.content)\n",
    "        \n",
    "        # Process Disclosure PDF\n",
    "        if dis_obj.getbuffer().nbytes > 0:\n",
    "            try:\n",
    "                dis_pdf = PdfReader(dis_obj)\n",
    "                dis_text = ' '.join([page.extract_text() for page in dis_pdf.pages if page.extract_text() is not None])\n",
    "            except Exception as e:\n",
    "                print(f\"Error processing Disclosure Statement for row {i}: {e}\")\n",
    "                dis_text = 'Error'\n",
    "\n",
    "        # Verification Summary\n",
    "        ver_response = session.get(ver_url)\n",
    "        ver_obj = io.BytesIO(ver_response.content)\n",
    "        \n",
    "        # Process Verification PDF\n",
    "        if ver_obj.getbuffer().nbytes > 0:\n",
    "            try:\n",
    "                ver_pdf = PdfReader(ver_obj)\n",
    "                ver_text = ' '.join([page.extract_text() for page in ver_pdf.pages if page.extract_text() is not None])\n",
    "            except Exception as e:\n",
    "                print(f\"Error processing Verification Summary for row {i}: {e}\")\n",
    "                ver_text = 'Error'\n",
    "    except Exception as general_error:\n",
    "        print(f\"General error in row {i}: {general_error}\")\n",
    "        dis_text, ver_text = 'Error', 'Error'\n",
    "    \n",
    "    # Update DataFrame\n",
    "    df_ver.at[i, 'Disclosure Text'] = dis_text if dis_text else 'None'\n",
    "    df_ver.at[i, 'Verification Text'] = ver_text if ver_text else 'None'"
   ]
  },
  {
   "cell_type": "code",
   "execution_count": 13,
   "id": "27a55f18-3042-4321-a072-651449f5dbce",
   "metadata": {},
   "outputs": [],
   "source": [
    "df_ver = df_ver[df_ver['Verification Text'] != 'Error']\n",
    "df_ver.reset_index(drop=True, inplace=True)"
   ]
  },
  {
   "cell_type": "code",
   "execution_count": 14,
   "id": "ce8e8ef0-f738-4f0b-a706-c27f36b8dae5",
   "metadata": {},
   "outputs": [],
   "source": [
    "def clean_verifier_name(name):\n",
    "    if name is None:\n",
    "        return name  # If the name is None, return it directly.\n",
    "\n",
    "    name = name.lower().strip()\n",
    "\n",
    "    substrings_to_remove = ['ltd', 'llp', 'pty', 'inc', 'ag', 'slu', 'sl']\n",
    "\n",
    "    # Remove defined substrings and extra spaces\n",
    "    for substring in substrings_to_remove:\n",
    "        name = name.replace(substring, '')\n",
    "    \n",
    "    name = re.sub(r'\\s+', ' ', name).strip()  # Replace multiple spaces with a single space and trim\n",
    "    name = re.sub(r'[^\\w\\s]', '', name)  # Remove special characters\n",
    "\n",
    "    return name"
   ]
  },
  {
   "cell_type": "code",
   "execution_count": 51,
   "id": "55e31f87-707b-4166-a8fc-5bb9be4a52c4",
   "metadata": {},
   "outputs": [
    {
     "name": "stderr",
     "output_type": "stream",
     "text": [
      "100%|██████████| 103/103 [02:58<00:00,  1.73s/it]\n"
     ]
    }
   ],
   "source": [
    "for i in tqdm(range(len(df_ver))):\n",
    "    text = f\"Extract the verifier's company name from this text. Output only the name or 'None' if not found: {df_ver['Verification Text'][i]}\"\n",
    "    \n",
    "    client = OpenAI(\n",
    "        api_key=\"\",\n",
    "    )\n",
    "\n",
    "    chat_completion = client.chat.completions.create(\n",
    "        messages=[\n",
    "            {\n",
    "                \"role\": \"user\",\n",
    "                \"content\": text[:10000],\n",
    "            }\n",
    "        ],\n",
    "        model=\"gpt-4\",\n",
    "    )\n",
    "\n",
    "    # Check if the response is 'No Information'\n",
    "    if chat_completion.choices[0].message.content.strip().lower() == 'none':\n",
    "        df_ver.at[i, 'Verifier'] = None\n",
    "    else:\n",
    "        # Clean and assign the verifier name if it's not 'No Information'\n",
    "        verifier_name = chat_completion.choices[0].message.content\n",
    "        cleaned_name = clean_verifier_name(verifier_name)\n",
    "        df_ver.at[i, 'Verifier'] = cleaned_name"
   ]
  },
  {
   "cell_type": "code",
   "execution_count": 52,
   "id": "15575ad0-72b9-450c-a8c1-0f35894e41b9",
   "metadata": {},
   "outputs": [],
   "source": [
    "def consolidate_names(names):\n",
    "    threshold = 90\n",
    "    consolidated_names = {}\n",
    "\n",
    "    for name in names:\n",
    "        if name is None:  # Skip None values\n",
    "            continue\n",
    "        result = process.extractOne(name, list(consolidated_names.keys()), score_cutoff=threshold)\n",
    "        if result:  # Check if result is not None\n",
    "            match, score = result\n",
    "            consolidated_names[match].append(name)\n",
    "        else:\n",
    "            consolidated_names[name] = [name]\n",
    "    \n",
    "    # Create a mapping from variant to consolidated name\n",
    "    inverse_mapping = {variant: key for key, values in consolidated_names.items() for variant in values}\n",
    "    return inverse_mapping"
   ]
  },
  {
   "cell_type": "code",
   "execution_count": 53,
   "id": "5c64b602-62ed-4060-a387-79aa741158e8",
   "metadata": {},
   "outputs": [],
   "source": [
    "# Apply the cleaning process to the entire 'Verifier' column first\n",
    "df_ver.loc[:, 'Verifier'] = df_ver['Verifier'].apply(clean_verifier_name)\n",
    "\n",
    "# Then, consolidate names\n",
    "unique_names = df_ver['Verifier'].unique()\n",
    "name_mapping = consolidate_names(unique_names)\n",
    "\n",
    "# Apply the mapping to consolidate similar names\n",
    "df_ver.loc[:, 'Verifier'] = df_ver['Verifier'].map(name_mapping)"
   ]
  },
  {
   "cell_type": "code",
   "execution_count": 68,
   "id": "dfd425be-7b7d-47be-baad-bc167625a06b",
   "metadata": {},
   "outputs": [],
   "source": [
    "df_ver.loc[df_ver['Verifier'] == 'ey associés', 'Verifier'] = 'ernst young'"
   ]
  },
  {
   "cell_type": "code",
   "execution_count": 112,
   "id": "da181aeb-f79d-4f5d-b093-f95f44a3392f",
   "metadata": {},
   "outputs": [
    {
     "data": {
      "text/plain": [
       "Verifier\n",
       "bluemark                0.391753\n",
       "ernst young             0.051546\n",
       "luminis advisors llc    0.041237\n",
       "kpmg                    0.041237\n",
       "Name: proportion, dtype: float64"
      ]
     },
     "execution_count": 112,
     "metadata": {},
     "output_type": "execute_result"
    }
   ],
   "source": [
    "df_ver['Verifier'].value_counts(normalize=True)[:4]"
   ]
  },
  {
   "cell_type": "code",
   "execution_count": 78,
   "id": "9ce8d417-c5db-4dc6-b7cf-31d1c1c6a46a",
   "metadata": {},
   "outputs": [
    {
     "data": {
      "image/png": "[encoded data removed]",
      "text/plain": [
       "<Figure size 1000x600 with 1 Axes>"
      ]
     },
     "metadata": {},
     "output_type": "display_data"
    }
   ],
   "source": [
    "df_ver['Verifier'].value_counts(normalize=True)[:4].plot(kind='bar', figsize=(10, 6))\n",
    "plt.ylabel('Counts')\n",
    "plt.xlabel('Verifier Names')\n",
    "plt.title('Frequency of Each Verifier')\n",
    "plt.xticks(rotation=45, ha='right')  # Rotate x-axis labels for better readability\n",
    "plt.tight_layout()  # Adjust layout to make room for the rotated x-axis labels\n",
    "plt.show()"
   ]
  },
  {
   "cell_type": "code",
   "execution_count": 102,
   "id": "55d84338-efed-43f6-b313-fdab986e7a72",
   "metadata": {},
   "outputs": [],
   "source": [
    "# Step 1: Group by 'Verifier' and aggregate names into lists\n",
    "verifier_names = df_ver.groupby('Verifier')['Name'].agg(list).reset_index()\n",
    "\n",
    "# Step 2: Explode the 'Name' lists into separate rows, keeping 'Verifier' next to each name\n",
    "exploded_df = verifier_names.explode('Name')\n",
    "\n",
    "# Step 3: Create a sort key that orders by the count of names per verifier, then drop the helper column\n",
    "exploded_df['Count'] = exploded_df.groupby('Verifier')['Verifier'].transform('count')\n",
    "sorted_df = exploded_df.sort_values(by='Count', ascending=False).drop(columns='Count')"
   ]
  },
  {
   "cell_type": "code",
   "execution_count": 101,
   "id": "4d0be328-0fa8-4c75-8f3b-3c58fc0d60e1",
   "metadata": {},
   "outputs": [
    {
     "data": {
      "text/html": [
       "<div>\n",
       "<style scoped>\n",
       "    .dataframe tbody tr th:only-of-type {\n",
       "        vertical-align: middle;\n",
       "    }\n",
       "\n",
       "    .dataframe tbody tr th {\n",
       "        vertical-align: top;\n",
       "    }\n",
       "\n",
       "    .dataframe thead th {\n",
       "        text-align: right;\n",
       "    }\n",
       "</style>\n",
       "<table border=\"1\" class=\"dataframe\">\n",
       "  <thead>\n",
       "    <tr style=\"text-align: right;\">\n",
       "      <th></th>\n",
       "      <th>Verifier</th>\n",
       "      <th>Name</th>\n",
       "    </tr>\n",
       "  </thead>\n",
       "  <tbody>\n",
       "    <tr>\n",
       "      <th>6</th>\n",
       "      <td>bluemark</td>\n",
       "      <td>FullCycle</td>\n",
       "    </tr>\n",
       "    <tr>\n",
       "      <th>6</th>\n",
       "      <td>bluemark</td>\n",
       "      <td>PROPARCO</td>\n",
       "    </tr>\n",
       "    <tr>\n",
       "      <th>6</th>\n",
       "      <td>bluemark</td>\n",
       "      <td>Shinsei Impact Investment Limited</td>\n",
       "    </tr>\n",
       "    <tr>\n",
       "      <th>6</th>\n",
       "      <td>bluemark</td>\n",
       "      <td>The Private Infrastructure Development Group Ltd.</td>\n",
       "    </tr>\n",
       "    <tr>\n",
       "      <th>6</th>\n",
       "      <td>bluemark</td>\n",
       "      <td>U.S. International Development Finance Corpora...</td>\n",
       "    </tr>\n",
       "    <tr>\n",
       "      <th>6</th>\n",
       "      <td>bluemark</td>\n",
       "      <td>Big Society Capital</td>\n",
       "    </tr>\n",
       "    <tr>\n",
       "      <th>6</th>\n",
       "      <td>bluemark</td>\n",
       "      <td>British International Investment plc</td>\n",
       "    </tr>\n",
       "    <tr>\n",
       "      <th>6</th>\n",
       "      <td>bluemark</td>\n",
       "      <td>Calvert Impact, Inc.</td>\n",
       "    </tr>\n",
       "    <tr>\n",
       "      <th>6</th>\n",
       "      <td>bluemark</td>\n",
       "      <td>Clime Capital Management Pte Ltd</td>\n",
       "    </tr>\n",
       "    <tr>\n",
       "      <th>6</th>\n",
       "      <td>bluemark</td>\n",
       "      <td>Development Partners International LLP</td>\n",
       "    </tr>\n",
       "  </tbody>\n",
       "</table>\n",
       "</div>"
      ],
      "text/plain": [
       "   Verifier                                               Name\n",
       "6  bluemark                                          FullCycle\n",
       "6  bluemark                                           PROPARCO\n",
       "6  bluemark                  Shinsei Impact Investment Limited\n",
       "6  bluemark  The Private Infrastructure Development Group Ltd.\n",
       "6  bluemark  U.S. International Development Finance Corpora...\n",
       "6  bluemark                                Big Society Capital\n",
       "6  bluemark               British International Investment plc\n",
       "6  bluemark                               Calvert Impact, Inc.\n",
       "6  bluemark                   Clime Capital Management Pte Ltd\n",
       "6  bluemark             Development Partners International LLP"
      ]
     },
     "execution_count": 101,
     "metadata": {},
     "output_type": "execute_result"
    }
   ],
   "source": [
    "sorted_df[:10]"
   ]
  },
  {
   "cell_type": "code",
   "execution_count": 105,
   "id": "544f1c81-b73a-4424-bdf8-5f3ac2c3385c",
   "metadata": {},
   "outputs": [
    {
     "data": {
      "text/html": [
       "<div>\n",
       "<style scoped>\n",
       "    .dataframe tbody tr th:only-of-type {\n",
       "        vertical-align: middle;\n",
       "    }\n",
       "\n",
       "    .dataframe tbody tr th {\n",
       "        vertical-align: top;\n",
       "    }\n",
       "\n",
       "    .dataframe thead th {\n",
       "        text-align: right;\n",
       "    }\n",
       "</style>\n",
       "<table border=\"1\" class=\"dataframe\">\n",
       "  <thead>\n",
       "    <tr style=\"text-align: right;\">\n",
       "      <th></th>\n",
       "      <th>Verifier</th>\n",
       "      <th>Name</th>\n",
       "    </tr>\n",
       "  </thead>\n",
       "  <tbody>\n",
       "    <tr>\n",
       "      <th>15</th>\n",
       "      <td>ernst young</td>\n",
       "      <td>UOB Venture Management Private Limited</td>\n",
       "    </tr>\n",
       "    <tr>\n",
       "      <th>15</th>\n",
       "      <td>ernst young</td>\n",
       "      <td>International Finance Corporation (IFC)</td>\n",
       "    </tr>\n",
       "    <tr>\n",
       "      <th>15</th>\n",
       "      <td>ernst young</td>\n",
       "      <td>MEF - Microfinance Enhancement Facility</td>\n",
       "    </tr>\n",
       "    <tr>\n",
       "      <th>15</th>\n",
       "      <td>ernst young</td>\n",
       "      <td>Mirova</td>\n",
       "    </tr>\n",
       "    <tr>\n",
       "      <th>15</th>\n",
       "      <td>ernst young</td>\n",
       "      <td>Circulate Capital Management Pte Ltd</td>\n",
       "    </tr>\n",
       "  </tbody>\n",
       "</table>\n",
       "</div>"
      ],
      "text/plain": [
       "       Verifier                                      Name\n",
       "15  ernst young    UOB Venture Management Private Limited\n",
       "15  ernst young   International Finance Corporation (IFC)\n",
       "15  ernst young  MEF - Microfinance Enhancement Facility \n",
       "15  ernst young                                    Mirova\n",
       "15  ernst young      Circulate Capital Management Pte Ltd"
      ]
     },
     "execution_count": 105,
     "metadata": {},
     "output_type": "execute_result"
    }
   ],
   "source": [
    "sorted_df[38:43]"
   ]
  },
  {
   "cell_type": "code",
   "execution_count": 108,
   "id": "f26ee349-dc37-455d-a24d-b3f3a99e4c78",
   "metadata": {},
   "outputs": [
    {
     "data": {
      "text/html": [
       "<div>\n",
       "<style scoped>\n",
       "    .dataframe tbody tr th:only-of-type {\n",
       "        vertical-align: middle;\n",
       "    }\n",
       "\n",
       "    .dataframe tbody tr th {\n",
       "        vertical-align: top;\n",
       "    }\n",
       "\n",
       "    .dataframe thead th {\n",
       "        text-align: right;\n",
       "    }\n",
       "</style>\n",
       "<table border=\"1\" class=\"dataframe\">\n",
       "  <thead>\n",
       "    <tr style=\"text-align: right;\">\n",
       "      <th></th>\n",
       "      <th>Verifier</th>\n",
       "      <th>Name</th>\n",
       "    </tr>\n",
       "  </thead>\n",
       "  <tbody>\n",
       "    <tr>\n",
       "      <th>26</th>\n",
       "      <td>kpmg</td>\n",
       "      <td>Octopus Investments</td>\n",
       "    </tr>\n",
       "    <tr>\n",
       "      <th>26</th>\n",
       "      <td>kpmg</td>\n",
       "      <td>The Rise Fund</td>\n",
       "    </tr>\n",
       "    <tr>\n",
       "      <th>26</th>\n",
       "      <td>kpmg</td>\n",
       "      <td>BMO Financial Group</td>\n",
       "    </tr>\n",
       "  </tbody>\n",
       "</table>\n",
       "</div>"
      ],
      "text/plain": [
       "   Verifier                 Name\n",
       "26     kpmg  Octopus Investments\n",
       "26     kpmg        The Rise Fund\n",
       "26     kpmg  BMO Financial Group"
      ]
     },
     "execution_count": 108,
     "metadata": {},
     "output_type": "execute_result"
    }
   ],
   "source": [
    "sorted_df[44:47]"
   ]
  },
  {
   "cell_type": "code",
   "execution_count": 111,
   "id": "45a8a13f-78a9-4bd9-b878-05ea5ee9206e",
   "metadata": {},
   "outputs": [
    {
     "data": {
      "text/html": [
       "<div>\n",
       "<style scoped>\n",
       "    .dataframe tbody tr th:only-of-type {\n",
       "        vertical-align: middle;\n",
       "    }\n",
       "\n",
       "    .dataframe tbody tr th {\n",
       "        vertical-align: top;\n",
       "    }\n",
       "\n",
       "    .dataframe thead th {\n",
       "        text-align: right;\n",
       "    }\n",
       "</style>\n",
       "<table border=\"1\" class=\"dataframe\">\n",
       "  <thead>\n",
       "    <tr style=\"text-align: right;\">\n",
       "      <th></th>\n",
       "      <th>Verifier</th>\n",
       "      <th>Name</th>\n",
       "    </tr>\n",
       "  </thead>\n",
       "  <tbody>\n",
       "    <tr>\n",
       "      <th>28</th>\n",
       "      <td>luminis advisors llc</td>\n",
       "      <td>Kiva Capital Management, LLC</td>\n",
       "    </tr>\n",
       "    <tr>\n",
       "      <th>28</th>\n",
       "      <td>luminis advisors llc</td>\n",
       "      <td>MicroVest Capital Management LLC</td>\n",
       "    </tr>\n",
       "    <tr>\n",
       "      <th>28</th>\n",
       "      <td>luminis advisors llc</td>\n",
       "      <td>Capricorn Investment Group, LLC</td>\n",
       "    </tr>\n",
       "  </tbody>\n",
       "</table>\n",
       "</div>"
      ],
      "text/plain": [
       "                Verifier                              Name\n",
       "28  luminis advisors llc      Kiva Capital Management, LLC\n",
       "28  luminis advisors llc  MicroVest Capital Management LLC\n",
       "28  luminis advisors llc   Capricorn Investment Group, LLC"
      ]
     },
     "execution_count": 111,
     "metadata": {},
     "output_type": "execute_result"
    }
   ],
   "source": [
    "sorted_df[48:51]"
   ]
  },
  {
   "cell_type": "code",
   "execution_count": null,
   "id": "54eddb7b-56e1-4bea-a5d3-6dfba36e4159",
   "metadata": {},
   "outputs": [],
   "source": []
  }
 ],
 "metadata": {
  "kernelspec": {
   "display_name": "Python 3 (ipykernel)",
   "language": "python",
   "name": "python3"
  },
  "language_info": {
   "codemirror_mode": {
    "name": "ipython",
    "version": 3
   },
   "file_extension": ".py",
   "mimetype": "text/x-python",
   "name": "python",
   "nbconvert_exporter": "python",
   "pygments_lexer": "ipython3",
   "version": "3.8.18"
  }
 },
 "nbformat": 4,
 "nbformat_minor": 5
}
