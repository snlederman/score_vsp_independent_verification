{
 "cells": [
  {
   "cell_type": "code",
   "execution_count": 1,
   "id": "beacae7d-58ae-472c-86b9-cd5dc191ed45",
   "metadata": {
    "scrolled": true
   },
   "outputs": [
    {
     "name": "stdout",
     "output_type": "stream",
     "text": [
      "Requirement already satisfied: pandas in /usr/local/lib/python3.8/site-packages (2.0.3)\n",
      "Requirement already satisfied: python-dateutil>=2.8.2 in /usr/local/lib/python3.8/site-packages (from pandas) (2.9.0.post0)\n",
      "Requirement already satisfied: numpy>=1.20.3 in /usr/local/lib/python3.8/site-packages (from pandas) (1.24.4)\n",
      "Requirement already satisfied: pytz>=2020.1 in /usr/local/lib/python3.8/site-packages (from pandas) (2024.1)\n",
      "Requirement already satisfied: tzdata>=2022.1 in /usr/local/lib/python3.8/site-packages (from pandas) (2024.1)\n",
      "Requirement already satisfied: six>=1.5 in /usr/local/lib/python3.8/site-packages (from python-dateutil>=2.8.2->pandas) (1.16.0)\n",
      "\u001B[33mWARNING: Running pip as the 'root' user can result in broken permissions and conflicting behaviour with the system package manager. It is recommended to use a virtual environment instead: https://pip.pypa.io/warnings/venv\u001B[0m\u001B[33m\n",
      "\u001B[0m\n",
      "\u001B[1m[\u001B[0m\u001B[34;49mnotice\u001B[0m\u001B[1;39;49m]\u001B[0m\u001B[39;49m A new release of pip is available: \u001B[0m\u001B[31;49m23.0.1\u001B[0m\u001B[39;49m -> \u001B[0m\u001B[32;49m24.0\u001B[0m\n",
      "\u001B[1m[\u001B[0m\u001B[34;49mnotice\u001B[0m\u001B[1;39;49m]\u001B[0m\u001B[39;49m To update, run: \u001B[0m\u001B[32;49mpip install --upgrade pip\u001B[0m\n",
      "Requirement already satisfied: PyPDF2 in /usr/local/lib/python3.8/site-packages (3.0.1)\n",
      "Requirement already satisfied: typing_extensions>=3.10.0.0 in /usr/local/lib/python3.8/site-packages (from PyPDF2) (4.10.0)\n",
      "\u001B[33mWARNING: Running pip as the 'root' user can result in broken permissions and conflicting behaviour with the system package manager. It is recommended to use a virtual environment instead: https://pip.pypa.io/warnings/venv\u001B[0m\u001B[33m\n",
      "\u001B[0m\n",
      "\u001B[1m[\u001B[0m\u001B[34;49mnotice\u001B[0m\u001B[1;39;49m]\u001B[0m\u001B[39;49m A new release of pip is available: \u001B[0m\u001B[31;49m23.0.1\u001B[0m\u001B[39;49m -> \u001B[0m\u001B[32;49m24.0\u001B[0m\n",
      "\u001B[1m[\u001B[0m\u001B[34;49mnotice\u001B[0m\u001B[1;39;49m]\u001B[0m\u001B[39;49m To update, run: \u001B[0m\u001B[32;49mpip install --upgrade pip\u001B[0m\n",
      "Requirement already satisfied: openai in /usr/local/lib/python3.8/site-packages (1.16.1)\n",
      "Requirement already satisfied: pydantic<3,>=1.9.0 in /usr/local/lib/python3.8/site-packages (from openai) (2.6.4)\n",
      "Requirement already satisfied: httpx<1,>=0.23.0 in /usr/local/lib/python3.8/site-packages (from openai) (0.27.0)\n",
      "Requirement already satisfied: anyio<5,>=3.5.0 in /usr/local/lib/python3.8/site-packages (from openai) (4.3.0)\n",
      "Requirement already satisfied: tqdm>4 in /usr/local/lib/python3.8/site-packages (from openai) (4.66.2)\n",
      "Requirement already satisfied: sniffio in /usr/local/lib/python3.8/site-packages (from openai) (1.3.1)\n",
      "Requirement already satisfied: distro<2,>=1.7.0 in /usr/local/lib/python3.8/site-packages (from openai) (1.9.0)\n",
      "Requirement already satisfied: typing-extensions<5,>=4.7 in /usr/local/lib/python3.8/site-packages (from openai) (4.10.0)\n",
      "Requirement already satisfied: idna>=2.8 in /usr/local/lib/python3.8/site-packages (from anyio<5,>=3.5.0->openai) (3.6)\n",
      "Requirement already satisfied: exceptiongroup>=1.0.2 in /usr/local/lib/python3.8/site-packages (from anyio<5,>=3.5.0->openai) (1.2.0)\n",
      "Requirement already satisfied: httpcore==1.* in /usr/local/lib/python3.8/site-packages (from httpx<1,>=0.23.0->openai) (1.0.4)\n",
      "Requirement already satisfied: certifi in /usr/local/lib/python3.8/site-packages (from httpx<1,>=0.23.0->openai) (2024.2.2)\n",
      "Requirement already satisfied: h11<0.15,>=0.13 in /usr/local/lib/python3.8/site-packages (from httpcore==1.*->httpx<1,>=0.23.0->openai) (0.14.0)\n",
      "Requirement already satisfied: pydantic-core==2.16.3 in /usr/local/lib/python3.8/site-packages (from pydantic<3,>=1.9.0->openai) (2.16.3)\n",
      "Requirement already satisfied: annotated-types>=0.4.0 in /usr/local/lib/python3.8/site-packages (from pydantic<3,>=1.9.0->openai) (0.6.0)\n",
      "\u001B[33mWARNING: Running pip as the 'root' user can result in broken permissions and conflicting behaviour with the system package manager. It is recommended to use a virtual environment instead: https://pip.pypa.io/warnings/venv\u001B[0m\u001B[33m\n",
      "\u001B[0m\n",
      "\u001B[1m[\u001B[0m\u001B[34;49mnotice\u001B[0m\u001B[1;39;49m]\u001B[0m\u001B[39;49m A new release of pip is available: \u001B[0m\u001B[31;49m23.0.1\u001B[0m\u001B[39;49m -> \u001B[0m\u001B[32;49m24.0\u001B[0m\n",
      "\u001B[1m[\u001B[0m\u001B[34;49mnotice\u001B[0m\u001B[1;39;49m]\u001B[0m\u001B[39;49m To update, run: \u001B[0m\u001B[32;49mpip install --upgrade pip\u001B[0m\n"
     ]
    }
   ],
   "source": [
    "!pip install pandas\n",
    "!pip install PyPDF2\n",
    "!pip install openai"
   ]
  },
  {
   "cell_type": "code",
   "execution_count": 2,
   "id": "74a7664e-e1e5-4bb6-94f8-38e619a321c3",
   "metadata": {},
   "outputs": [],
   "source": [
    "import pandas as pd\n",
    "from PyPDF2 import PdfReader\n",
    "import os\n",
    "from openai import OpenAI"
   ]
  },
  {
   "cell_type": "code",
   "execution_count": 3,
   "id": "dfebab2f-7470-4b0a-8461-345b92ad6d35",
   "metadata": {},
   "outputs": [],
   "source": [
    "files = os.listdir('ofertas')\n",
    "data = []\n",
    "for file in files:\n",
    "    file_path = os.path.join('ofertas', file)  \n",
    "    if os.path.isfile(file_path):  \n",
    "        content = PdfReader(file_path)\n",
    "        text = ' '.join([page.extract_text() for page in content.pages if page.extract_text() is not None])\n",
    "        data.append([file, text])\n",
    "        \n",
    "df = pd.DataFrame(data, columns=['Name','Proposal'])"
   ]
  },
  {
   "cell_type": "code",
   "execution_count": 4,
   "id": "9a91ecbc-4c1c-4cef-bb3f-1f03c4c0a6dd",
   "metadata": {},
   "outputs": [
    {
     "data": {
      "text/html": [
       "<div>\n",
       "<style scoped>\n",
       "    .dataframe tbody tr th:only-of-type {\n",
       "        vertical-align: middle;\n",
       "    }\n",
       "\n",
       "    .dataframe tbody tr th {\n",
       "        vertical-align: top;\n",
       "    }\n",
       "\n",
       "    .dataframe thead th {\n",
       "        text-align: right;\n",
       "    }\n",
       "</style>\n",
       "<table border=\"1\" class=\"dataframe\">\n",
       "  <thead>\n",
       "    <tr style=\"text-align: right;\">\n",
       "      <th></th>\n",
       "      <th>Name</th>\n",
       "      <th>Proposal</th>\n",
       "    </tr>\n",
       "  </thead>\n",
       "  <tbody>\n",
       "    <tr>\n",
       "      <th>0</th>\n",
       "      <td>tor.pdf</td>\n",
       "      <td>\\nTerms of Reference for  \\nIndependent Verif...</td>\n",
       "    </tr>\n",
       "    <tr>\n",
       "      <th>1</th>\n",
       "      <td>luminis_proposal.pdf</td>\n",
       "      <td>\\n1  \\n Proposal for independent verification...</td>\n",
       "    </tr>\n",
       "    <tr>\n",
       "      <th>2</th>\n",
       "      <td>ey_proposal.pdf</td>\n",
       "      <td>The better the question.The better the answer....</td>\n",
       "    </tr>\n",
       "    <tr>\n",
       "      <th>3</th>\n",
       "      <td>kpmg_proposal.pdf</td>\n",
       "      <td>\\n  CAF  \\nBanco de Desarrollo  \\nde Améric...</td>\n",
       "    </tr>\n",
       "    <tr>\n",
       "      <th>4</th>\n",
       "      <td>bluemark_proposal.pdf</td>\n",
       "      <td>\\n     March 25, 2024  Gladis Genua: Director...</td>\n",
       "    </tr>\n",
       "  </tbody>\n",
       "</table>\n",
       "</div>"
      ],
      "text/plain": [
       "                    Name                                           Proposal\n",
       "0                tor.pdf   \\nTerms of Reference for  \\nIndependent Verif...\n",
       "1   luminis_proposal.pdf   \\n1  \\n Proposal for independent verification...\n",
       "2        ey_proposal.pdf  The better the question.The better the answer....\n",
       "3      kpmg_proposal.pdf     \\n  CAF  \\nBanco de Desarrollo  \\nde Améric...\n",
       "4  bluemark_proposal.pdf   \\n     March 25, 2024  Gladis Genua: Director..."
      ]
     },
     "execution_count": 4,
     "metadata": {},
     "output_type": "execute_result"
    }
   ],
   "source": [
    "df"
   ]
  },
  {
   "cell_type": "code",
   "execution_count": 5,
   "id": "51a1f280-c024-48ce-813f-09df7ff1de9d",
   "metadata": {},
   "outputs": [],
   "source": [
    "text_comparison = f\"I have a set of proposals and a Terms of Reference (ToR) document that I need analyzed and compared.\\\n",
    "The goal is to select the best proposal based on key criteria such as alignment with the ToR, and cost-effectiveness.\\\n",
    "\\\n",
    "Please proceed as follows:\\\n",
    "1. Summarize the key points of the ToR and each proposal (Luminis, EY, KPMG, and BlueMark) based on their content.\\\n",
    "2. Compare each proposal against the ToR based on cost, experience, innovation.\\\n",
    "3. Highlight the pros and cons of each proposal, considering the specific considerations I've mentioned.\\\n",
    "4. Recommend the best option based on this analysis, providing reasoning that includes consideration of pricing and alignment with the ToR.\\\n",
    "\\\n",
    "The proposals and ToR are in PDFs and include the following data extracted from our database for analysis:\\\n",
    "- ToR: {df[df['Name'] == 'tor.pdf']['Proposal'][0]}\\\n",
    "- Luminis Proposal: {df[df['Name'] == 'luminis_proposal.pdf']['Proposal'][1]}\\\n",
    "- EY Proposal: {df[df['Name'] == 'ey_proposal.pdf']['Proposal'][2]}\\\n",
    "- BlueMark Proposal: {df[df['Name'] == 'bluemark_proposal.pdf']['Proposal'][4]}\\\n",
    "- KPMG Proposal: {df[df['Name'] == 'kpmg_proposal.pdf']['Proposal'][3]}\\\n",
    "\\\n",
    "I look forward to your detailed analysis to help me make an informed decision.\""
   ]
  },
  {
   "cell_type": "code",
   "execution_count": 6,
   "id": "fb8195e5-8ef7-4fc1-85d7-b20c7b9bdabf",
   "metadata": {},
   "outputs": [],
   "source": [
    "text_summary = f\"I have a proposal in response to a Terms of Reference (ToR) for a project. I need a concise summary of the proposal to help me make a decision. The summary should extract and highlight the most critical information in a structured format. Please include the following points:\\\n",
    "\\\n",
    "1. **Key Features/Services Offered**: Highlight the main features or services proposed, focusing on what makes them unique or particularly valuable.\\\n",
    "\\\n",
    "2. **Cost Structure**: Summarize the pricing model, total cost, and any specific details related to expenses that are notable (e.g., fixed costs, variable costs, payment milestones).\\\n",
    "\\\n",
    "3. **Schedule/Timeline**: Outline the proposed timeline for the project, including any key milestones, phase completions, and the final deadline.\\\n",
    "\\\n",
    "4. **Experience and Credentials**: Note any relevant experience, past projects, or credentials that the proposing entity has, which might be relevant to this project.\\\n",
    "\\\n",
    "5. **Differentiators**: Identify what sets this proposal apart from others. This could be an innovative approach, superior technology, better value for money, or anything else that is a standout feature.\\\n",
    "\\\n",
    "6. **Compliance with Terms of Reference (ToR)**: Evaluate briefly how well the proposal aligns with the ToR's requirements and objectives.\\\n",
    "\\\n",
    "7. **Conclusion and Recommendation**: Provide a brief conclusion that summarizes the suitability of the proposal based on the above points and any recommendations for negotiations or clarifications.\\\n",
    "\\\n",
    "Please generate a summary for the following proposal based on the above structure:\\\n",
    "\\\n",
    "- ToR: {df[df['Name'] == 'tor.pdf']['Proposal'][0]}\\\n",
    "- KPMG Proposal: {df[df['Name'] == 'kpmg_proposal.pdf']['Proposal'][3]}\\\n",
    "\\\n",
    "This will help me to make a more informed decision based on the outlined criteria. Thank you!\""
   ]
  },
  {
   "cell_type": "code",
   "execution_count": 7,
   "id": "48f2374e-cfcf-4669-b432-ae08e7905d26",
   "metadata": {},
   "outputs": [],
   "source": [
    "text_matrix = f\"I've analyzed a set of proposals against a Terms of Reference (ToR) document and need to develop a quantitative decision matrix for a more robust decision-making process. The matrix should evaluate each proposal against four criteria: alignment with the ToR, cost, experience/credibility, and added value for CAF.\\\n",
    "\\\n",
    "Please help me design this decision matrix. Create a scoring system ranging from 1 to 5 for each criterion, where 1 represents the lowest score (poor) and 5 the highest (excellent). Then, assign scores to each proposal based on these criteria:\\\n",
    "\\\n",
    "1. **Alignment with ToR**: Evaluate how well the proposal meets the ToR's requirements and objectives.\\\n",
    "2. **Cost**: Assess the proposal's pricing competitiveness, including total cost and value for money.\\\n",
    "3. **Experience/Credibility**: Determine the proposing organization's industry experience and credibility, considering past projects and expertise.\\\n",
    "4. **Added Value for CAF**: Gauge the proposal's potential for delivering additional benefits to CAF beyond the basic requirements.\\\n",
    "\\\n",
    "Following the scoring, summarize the results and recommend the best choice based on the scores and any qualitative insights from the proposals.\\\n",
    "\\\n",
    "The proposals and ToR are presented in PDF format, with key data extracted for analysis as follows:\\\n",
    "- ToR: {df[df['Name'] == 'tor.pdf']['Proposal'][0]}\\\n",
    "- Luminis Proposal: {df[df['Name'] == 'luminis_proposal.pdf']['Proposal'][1]}\\\n",
    "- EY Proposal: {df[df['Name'] == 'ey_proposal.pdf']['Proposal'][2]}\\\n",
    "- BlueMark Proposal: {df[df['Name'] == 'bluemark_proposal.pdf']['Proposal'][4]}\\\n",
    "- KPMG Proposal: {df[df['Name'] == 'kpmg_proposal.pdf']['Proposal'][3]}\\\n",
    "\\\n",
    "This structured approach will ensure a transparent and informed decision-making process. Thank you!\""
   ]
  },
  {
   "cell_type": "code",
   "execution_count": 8,
   "id": "1f961d38-19a8-437f-8838-2b1032ad34a7",
   "metadata": {},
   "outputs": [],
   "source": [
    "text_matrix = f\"I've analyzed a set of proposals against a Terms of Reference (ToR) document and need to develop a quantitative decision matrix for a more robust decision-making process. The matrix should evaluate each proposal against four criteria: alignment with the ToR, cost, experience/credibility, and added value for CAF.\\\n",
    "\\\n",
    "For each criterion, create a scoring system ranging from 1 to 5, where 1 represents the lowest score (poor) and 5 the highest (excellent). I need you to assign scores to each proposal based on these criteria and also provide detailed reasoning for each score that explains why the proposal deserves that score based on its content.\\\n",
    "\\\n",
    "Here are the criteria and what they should evaluate:\\\n",
    "\\\n",
    "1. **Alignment with ToR**: Evaluate how well the proposal meets the ToR's requirements and objectives. Provide reasoning for the score that discusses specific aspects of the proposal that demonstrate its alignment or lack thereof.\\\n",
    "\\\n",
    "2. **Cost**: Assess the proposal's pricing competitiveness, including total cost and value for money. Explain the reasoning behind the score, referencing the proposal's budget details, cost breakdown, and overall financial value. For the analysis take in account that the most expensive one is KPMG, followed by BlueMark, then EY and the cheapest is Luminis\\\n",
    "\\\n",
    "3. **Experience/Credibility**: Determine the proposing organization's industry experience and credibility, considering past projects and expertise. Justify the score by citing evidence of the organization's track record, success stories, or recognition in the industry.\\\n",
    "\\\n",
    "4. **Added Value for CAF**: Gauge the proposal's potential for delivering additional benefits to CAF beyond the basic requirements. The reasoning for the score should reflect on the innovative aspects of the proposal or any unique offerings that could benefit CAF.\\\n",
    "\\\n",
    "After scoring each proposal based on these criteria and providing the reasoning, summarize the results and recommend the best choice, taking into account both the scores and the qualitative insights provided by the explanations.\\\n",
    "\\\n",
    "The proposals and ToR are presented in PDF format, with key data extracted for analysis as follows:\\\n",
    "- ToR: {df[df['Name'] == 'tor.pdf']['Proposal'][0]}\\\n",
    "- Luminis Proposal: {df[df['Name'] == 'luminis_proposal.pdf']['Proposal'][1]}\\\n",
    "- EY Proposal: {df[df['Name'] == 'ey_proposal.pdf']['Proposal'][2]}\\\n",
    "- BlueMark Proposal: {df[df['Name'] == 'bluemark_proposal.pdf']['Proposal'][4]}\\\n",
    "- KPMG Proposal: {df[df['Name'] == 'kpmg_proposal.pdf']['Proposal'][3]}\\\n",
    "\\\n",
    "This structured approach, with a scoring rationale, will ensure a transparent and informed decision-making process. Thank you!\""
   ]
  },
  {
   "cell_type": "code",
   "execution_count": 9,
   "id": "55e31f87-707b-4166-a8fc-5bb9be4a52c4",
   "metadata": {},
   "outputs": [],
   "source": [
    "client = OpenAI(api_key=\"\",)\n",
    "\n",
    "chat_completion = client.chat.completions.create(\n",
    "        messages=[\n",
    "            {\n",
    "                \"role\": \"user\",\n",
    "                \"content\": text_matrix,\n",
    "            }\n",
    "        ],\n",
    "        model=\"gpt-4-0125-preview\", #gpt-4-0125-preview\n",
    "    )\n",
    "\n",
    "output = chat_completion.choices[0].message.content"
   ]
  },
  {
   "cell_type": "code",
   "execution_count": 10,
   "id": "e097acb4-29b9-4247-8767-373917503a99",
   "metadata": {
    "scrolled": true
   },
   "outputs": [
    {
     "name": "stdout",
     "output_type": "stream",
     "text": [
      "Based on the criteria outlined and the detailed proposals provided by Luminis, EY, BlueMark, and KPMG, here is the quantitative decision matrix including scoring and reasoning. Note that while comprehensive and grounded in the information provided, this evaluation involves a level of subjectivity and interpretation from the provided outlines. \n",
      "\n",
      "## Alignment with the Terms of Reference (ToR)\n",
      "\n",
      "1. **Luminis: 5** - The proposal demonstrates a clear understanding of CAF's requirements. The methodology, deliverables, and timeline are well-aligned with the ToR's main activities and objectives. The focus on utilizing a client intake survey and targeted interviews suggests a tailored approach that will ensure alignment with CAF’s specific needs.\n",
      " \n",
      "2. **EY: 4** - EY's proposal, while robust and detailed, offering a comprehensive method for verifying alignment with the Impact Principles, seems slightly more generic compared to Luminis. It demonstrates strong alignment with the ToR but lacks the specificity in the approach Luminis offers.\n",
      "\n",
      "3. **BlueMark: 3** - BlueMark’s proposal showcases a good understanding of the ToR but appears more focused on comparative analysis and benchmarking than on the unique aspects of CAF’s requirements. The generic nature of some of their proposed benchmarks lessens the perceived alignment.\n",
      "\n",
      "4. **KPMG: 2** - KPMG's proposal, although detailed, showcases a more generic assurance service which doesn't seem to fully grasp the unique requirements laid out by CAF’s ToR, particularly in the innovative aspects and specific tools like MIDES.\n",
      "\n",
      "## Cost\n",
      "\n",
      "1. **Luminis: 5** - With a highly competitive pricing structure and a comprehensive package, Luminis offers the best value for the services CAF requires, making it the most cost-effective option while still promising thoroughness.\n",
      "\n",
      "2. **EY: 3** - EY's proposal is moderate in cost. Although higher than Luminis, it is justified by the depth of their service and the comprehensive nature of their international network.\n",
      "\n",
      "3. **BlueMark: 2** - BlueMark’s pricing seems less competitive, given the relative value addition specified in their proposal. \n",
      "\n",
      "4. **KPMG: 1** - KPMG is the most expensive option. While it brings a global brand's assurance, the cost is significantly higher than others, making it difficult to justify its value based on the proposal content.\n",
      "\n",
      "## Experience/Credibility\n",
      "\n",
      "1. **EY: 5** - EY's experience and credibility are unmatched, with extensive global resources and specific examples of past successes in similar projects. Their standing in the industry is well established.\n",
      "\n",
      "2. **KPMG: 4** - KPMG has strong credibility and a solid track record, underscored by detailed examples of relevant experience. Their global prowess and specific sector expertise are highly relevant.\n",
      "\n",
      "3. **BlueMark: 4** - Specializing in impact investing, BlueMark demonstrates specific and highly relevant experience. Their focus and prior engagements, particularly with DFIs, reinforce their credibility.\n",
      "\n",
      "4. **Luminis: 3** - While Luminis has demonstrated capability, their narrower focus and smaller scale of operations place them slightly lower in terms of industry-wide credibility compared to the giants like EY and KPMG.\n",
      "\n",
      "## Added Value for CAF\n",
      "\n",
      "1. **Luminis: 5** - Luminis' use of a proprietary benchmark database and a tailored approach specifically designed for CAF's needs presents a unique added value, demonstrating potential for actionable insights beyond the ToR.\n",
      "\n",
      "2. **BlueMark: 4** - BlueMark’s specialized focus on impact verification services and the potential for insightful benchmarking provides significant added value, particularly in aligning CAF’s practices with industry best standards.\n",
      "\n",
      "3. **EY: 3** - While EY offers comprehensive services, the added value in terms of innovative or unique offerings specifically beneficial for CAF beyond their established reputation is less pronounced in their proposal.\n",
      "\n",
      "4. **KPMG: 2** - Despite their global presence and assurance capabilities, KPMG’s proposal lacks specifics on added value tailored to CAF’s unique situation, focusing more on the assurance process itself.\n",
      "\n",
      "## Recommendation\n",
      "\n",
      "Considering the scores and detailed reasoning, **Luminis** emerges as the recommended choice for CAF. Their proposal scores high in alignment with ToR, offers the best cost-value proposition, and promises unique additional value specifically tailored to CAF's requirements. While EY demonstrates undeniable credibility, the balance of cost, specific service offerings, and the tailored approach of Luminis offers a compelling case for its selection.\n"
     ]
    }
   ],
   "source": [
    "print(output)"
   ]
  }
 ],
 "metadata": {
  "kernelspec": {
   "display_name": "Python 3 (ipykernel)",
   "language": "python",
   "name": "python3"
  },
  "language_info": {
   "codemirror_mode": {
    "name": "ipython",
    "version": 3
   },
   "file_extension": ".py",
   "mimetype": "text/x-python",
   "name": "python",
   "nbconvert_exporter": "python",
   "pygments_lexer": "ipython3",
   "version": "3.8.18"
  }
 },
 "nbformat": 4,
 "nbformat_minor": 5
}
